{
  "nbformat": 4,
  "nbformat_minor": 0,
  "metadata": {
    "colab": {
      "name": "google_proj.ipynb",
      "provenance": [],
      "authorship_tag": "ABX9TyMHbgkH6n9nnsV0fp7dZT90",
      "include_colab_link": true
    },
    "kernelspec": {
      "name": "python3",
      "display_name": "Python 3"
    },
    "language_info": {
      "name": "python"
    }
  },
  "cells": [
    {
      "cell_type": "markdown",
      "metadata": {
        "id": "view-in-github",
        "colab_type": "text"
      },
      "source": [
        "<a href=\"https://colab.research.google.com/github/Bola-fadipe/my_CV/blob/master/google_proj.ipynb\" target=\"_parent\"><img src=\"https://colab.research.google.com/assets/colab-badge.svg\" alt=\"Open In Colab\"/></a>"
      ]
    },
    {
      "cell_type": "markdown",
      "metadata": {
        "id": "-TzKc8Q6KBr-"
      },
      "source": [
        "# Analysis of the chicago bike share\n"
      ]
    },
    {
      "cell_type": "code",
      "metadata": {
        "id": "BfKxAv6KHHp-"
      },
      "source": [
        "# import necessary libraries\n",
        "\n",
        "import pandas as pd\n",
        "import numpy as np\n",
        "\n",
        "import matplotlib.pyplot as plt\n",
        "import seaborn as sns\n",
        "sns.set_theme(style='dark')\n",
        "%matplotlib inline\n",
        "\n",
        "import glob\n",
        "import missingno as msn\n",
        "\n",
        "import datetime\n"
      ],
      "execution_count": 161,
      "outputs": []
    },
    {
      "cell_type": "code",
      "metadata": {
        "id": "zyxbH2QZHnW3"
      },
      "source": [
        "pip install opendatasets --upgrade --quiet"
      ],
      "execution_count": 2,
      "outputs": []
    },
    {
      "cell_type": "code",
      "metadata": {
        "id": "egMTLisSJ19G"
      },
      "source": [
        "import opendatasets as od"
      ],
      "execution_count": 4,
      "outputs": []
    },
    {
      "cell_type": "code",
      "metadata": {
        "colab": {
          "base_uri": "https://localhost:8080/"
        },
        "id": "PTFuQf4RKoaz",
        "outputId": "55d2bd92-76c9-41b6-caae-082fd5da3019"
      },
      "source": [
        "files = od.download('https://www.kaggle.com/adriangonzalezcortes/google-cap-stone-project')"
      ],
      "execution_count": 5,
      "outputs": [
        {
          "output_type": "stream",
          "text": [
            "Skipping, found downloaded files in \"./google-cap-stone-project\" (use force=True to force download)\n"
          ],
          "name": "stdout"
        }
      ]
    },
    {
      "cell_type": "code",
      "metadata": {
        "id": "EO3lVH8gQd4b"
      },
      "source": [
        "path = 'google-cap-stone-project'\n",
        "filenames = glob.glob(path + \"/*.csv\")"
      ],
      "execution_count": 6,
      "outputs": []
    },
    {
      "cell_type": "code",
      "metadata": {
        "id": "T8JHWv3kQ2zL"
      },
      "source": [
        "#loop through all filenames and read them into a list\n",
        "dfs = []\n",
        "df_list = [dfs.append(pd.read_csv(filename)) for filename in filenames]\n"
      ],
      "execution_count": 7,
      "outputs": []
    },
    {
      "cell_type": "code",
      "metadata": {
        "id": "mcsH84P0RKER"
      },
      "source": [
        "# Concatenate all datasets vertically into one  DataFrame\n",
        "df_big = pd.concat(dfs, ignore_index=True)"
      ],
      "execution_count": 9,
      "outputs": []
    },
    {
      "cell_type": "code",
      "metadata": {
        "id": "XCKv-dEqTWPH"
      },
      "source": [
        "# save big DataFrame to a new csv file for feature use\n",
        "df_big.to_csv('google_project_full.csv', index=False)"
      ],
      "execution_count": 50,
      "outputs": []
    },
    {
      "cell_type": "markdown",
      "metadata": {
        "id": "OTU7yWh6TBYY"
      },
      "source": [
        "## getting basic information about the dataset"
      ]
    },
    {
      "cell_type": "code",
      "metadata": {
        "colab": {
          "base_uri": "https://localhost:8080/"
        },
        "id": "92bVA6y2SF1-",
        "outputId": "0d7f804e-9fb8-45db-fce1-ecc4c3a0367c"
      },
      "source": [
        "df = df_big.copy()\n",
        "df.shape"
      ],
      "execution_count": 10,
      "outputs": [
        {
          "output_type": "execute_result",
          "data": {
            "text/plain": [
              "(3489748, 13)"
            ]
          },
          "metadata": {
            "tags": []
          },
          "execution_count": 10
        }
      ]
    },
    {
      "cell_type": "code",
      "metadata": {
        "colab": {
          "base_uri": "https://localhost:8080/",
          "height": 394
        },
        "id": "QRiZDwFuSYvg",
        "outputId": "0edd4b7c-29b6-49a6-a070-73bcf7f78c97"
      },
      "source": [
        "df.sample(5)"
      ],
      "execution_count": 11,
      "outputs": [
        {
          "output_type": "execute_result",
          "data": {
            "text/html": [
              "<div>\n",
              "<style scoped>\n",
              "    .dataframe tbody tr th:only-of-type {\n",
              "        vertical-align: middle;\n",
              "    }\n",
              "\n",
              "    .dataframe tbody tr th {\n",
              "        vertical-align: top;\n",
              "    }\n",
              "\n",
              "    .dataframe thead th {\n",
              "        text-align: right;\n",
              "    }\n",
              "</style>\n",
              "<table border=\"1\" class=\"dataframe\">\n",
              "  <thead>\n",
              "    <tr style=\"text-align: right;\">\n",
              "      <th></th>\n",
              "      <th>ride_id</th>\n",
              "      <th>rideable_type</th>\n",
              "      <th>started_at</th>\n",
              "      <th>ended_at</th>\n",
              "      <th>start_station_name</th>\n",
              "      <th>start_station_id</th>\n",
              "      <th>end_station_name</th>\n",
              "      <th>end_station_id</th>\n",
              "      <th>start_lat</th>\n",
              "      <th>start_lng</th>\n",
              "      <th>end_lat</th>\n",
              "      <th>end_lng</th>\n",
              "      <th>member_casual</th>\n",
              "    </tr>\n",
              "  </thead>\n",
              "  <tbody>\n",
              "    <tr>\n",
              "      <th>2294496</th>\n",
              "      <td>F49463CE5F1BC442</td>\n",
              "      <td>docked_bike</td>\n",
              "      <td>2020-10-10 12:47:48</td>\n",
              "      <td>2020-10-10 13:44:13</td>\n",
              "      <td>Clark St &amp; Randolph St</td>\n",
              "      <td>51</td>\n",
              "      <td>Wabash Ave &amp; Roosevelt Rd</td>\n",
              "      <td>59</td>\n",
              "      <td>41.884576</td>\n",
              "      <td>-87.631889</td>\n",
              "      <td>41.867227</td>\n",
              "      <td>-87.625961</td>\n",
              "      <td>casual</td>\n",
              "    </tr>\n",
              "    <tr>\n",
              "      <th>1827575</th>\n",
              "      <td>8BF700FDACD60653</td>\n",
              "      <td>docked_bike</td>\n",
              "      <td>2020-06-21 18:23:12</td>\n",
              "      <td>2020-06-21 18:28:13</td>\n",
              "      <td>Dearborn St &amp; Erie St</td>\n",
              "      <td>110</td>\n",
              "      <td>Orleans St &amp; Hubbard St</td>\n",
              "      <td>636</td>\n",
              "      <td>41.893992</td>\n",
              "      <td>-87.629318</td>\n",
              "      <td>41.890028</td>\n",
              "      <td>-87.636618</td>\n",
              "      <td>member</td>\n",
              "    </tr>\n",
              "    <tr>\n",
              "      <th>1618263</th>\n",
              "      <td>0AFD73B4EE9F8387</td>\n",
              "      <td>docked_bike</td>\n",
              "      <td>2020-06-30 18:00:36</td>\n",
              "      <td>2020-06-30 18:18:35</td>\n",
              "      <td>Theater on the Lake</td>\n",
              "      <td>177</td>\n",
              "      <td>Theater on the Lake</td>\n",
              "      <td>177</td>\n",
              "      <td>41.926277</td>\n",
              "      <td>-87.630834</td>\n",
              "      <td>41.926277</td>\n",
              "      <td>-87.630834</td>\n",
              "      <td>member</td>\n",
              "    </tr>\n",
              "    <tr>\n",
              "      <th>1415103</th>\n",
              "      <td>E1112C66AB76829D</td>\n",
              "      <td>electric_bike</td>\n",
              "      <td>2021-03-19 12:01:19</td>\n",
              "      <td>2021-03-19 12:22:16</td>\n",
              "      <td>Broadway &amp; Belmont Ave</td>\n",
              "      <td>13277</td>\n",
              "      <td>Broadway &amp; Granville Ave</td>\n",
              "      <td>15571</td>\n",
              "      <td>41.940145</td>\n",
              "      <td>-87.645385</td>\n",
              "      <td>41.994743</td>\n",
              "      <td>-87.660253</td>\n",
              "      <td>member</td>\n",
              "    </tr>\n",
              "    <tr>\n",
              "      <th>1409386</th>\n",
              "      <td>FB6B70979AB1C81D</td>\n",
              "      <td>classic_bike</td>\n",
              "      <td>2021-03-30 17:09:53</td>\n",
              "      <td>2021-03-30 17:26:31</td>\n",
              "      <td>Michigan Ave &amp; 14th St</td>\n",
              "      <td>TA1307000124</td>\n",
              "      <td>Shields Ave &amp; 31st St</td>\n",
              "      <td>KA1503000038</td>\n",
              "      <td>41.864059</td>\n",
              "      <td>-87.623727</td>\n",
              "      <td>41.838464</td>\n",
              "      <td>-87.635406</td>\n",
              "      <td>casual</td>\n",
              "    </tr>\n",
              "  </tbody>\n",
              "</table>\n",
              "</div>"
            ],
            "text/plain": [
              "                  ride_id  rideable_type  ...    end_lng member_casual\n",
              "2294496  F49463CE5F1BC442    docked_bike  ... -87.625961        casual\n",
              "1827575  8BF700FDACD60653    docked_bike  ... -87.636618        member\n",
              "1618263  0AFD73B4EE9F8387    docked_bike  ... -87.630834        member\n",
              "1415103  E1112C66AB76829D  electric_bike  ... -87.660253        member\n",
              "1409386  FB6B70979AB1C81D   classic_bike  ... -87.635406        casual\n",
              "\n",
              "[5 rows x 13 columns]"
            ]
          },
          "metadata": {
            "tags": []
          },
          "execution_count": 11
        }
      ]
    },
    {
      "cell_type": "code",
      "metadata": {
        "colab": {
          "base_uri": "https://localhost:8080/"
        },
        "id": "O9ThB10RURFX",
        "outputId": "089ada68-b006-44b0-d21d-7fcb10a13167"
      },
      "source": [
        "list(df.columns)"
      ],
      "execution_count": 12,
      "outputs": [
        {
          "output_type": "execute_result",
          "data": {
            "text/plain": [
              "['ride_id',\n",
              " 'rideable_type',\n",
              " 'started_at',\n",
              " 'ended_at',\n",
              " 'start_station_name',\n",
              " 'start_station_id',\n",
              " 'end_station_name',\n",
              " 'end_station_id',\n",
              " 'start_lat',\n",
              " 'start_lng',\n",
              " 'end_lat',\n",
              " 'end_lng',\n",
              " 'member_casual']"
            ]
          },
          "metadata": {
            "tags": []
          },
          "execution_count": 12
        }
      ]
    },
    {
      "cell_type": "code",
      "metadata": {
        "colab": {
          "base_uri": "https://localhost:8080/"
        },
        "id": "KQiKQUXOUamh",
        "outputId": "33c0c49f-405d-458b-a2d1-6c56aac585e4"
      },
      "source": [
        "df.info()"
      ],
      "execution_count": 13,
      "outputs": [
        {
          "output_type": "stream",
          "text": [
            "<class 'pandas.core.frame.DataFrame'>\n",
            "RangeIndex: 3489748 entries, 0 to 3489747\n",
            "Data columns (total 13 columns):\n",
            " #   Column              Dtype  \n",
            "---  ------              -----  \n",
            " 0   ride_id             object \n",
            " 1   rideable_type       object \n",
            " 2   started_at          object \n",
            " 3   ended_at            object \n",
            " 4   start_station_name  object \n",
            " 5   start_station_id    object \n",
            " 6   end_station_name    object \n",
            " 7   end_station_id      object \n",
            " 8   start_lat           float64\n",
            " 9   start_lng           float64\n",
            " 10  end_lat             float64\n",
            " 11  end_lng             float64\n",
            " 12  member_casual       object \n",
            "dtypes: float64(4), object(9)\n",
            "memory usage: 346.1+ MB\n"
          ],
          "name": "stdout"
        }
      ]
    },
    {
      "cell_type": "markdown",
      "metadata": {
        "id": "lq-SehXDf2R_"
      },
      "source": [
        "## Cleaning the data\n",
        "- check correctness of dtype\n",
        "- find & handle missing values\n",
        "- find & handle duplicate values\n",
        "- drop unwanted column(s)"
      ]
    },
    {
      "cell_type": "code",
      "metadata": {
        "id": "q_MWWxjxUjwz"
      },
      "source": [
        "# convert 'started_at' and 'ended_at' columns to datetime\n",
        "df.started_at = pd.to_datetime(df.started_at,format='%Y-%m-%d %H:%M:%S')\n"
      ],
      "execution_count": 14,
      "outputs": []
    },
    {
      "cell_type": "code",
      "metadata": {
        "id": "CtrVPYLnWgdL"
      },
      "source": [
        "df.ended_at = pd.to_datetime(df.ended_at,format='%Y-%m-%d %H:%M:%S')"
      ],
      "execution_count": 15,
      "outputs": []
    },
    {
      "cell_type": "code",
      "metadata": {
        "colab": {
          "base_uri": "https://localhost:8080/"
        },
        "id": "zIxS_lQQfYBT",
        "outputId": "e07160a3-fce2-4438-8bf1-39dd50377a81"
      },
      "source": [
        "#verify conversion\n",
        "df.dtypes"
      ],
      "execution_count": 16,
      "outputs": [
        {
          "output_type": "execute_result",
          "data": {
            "text/plain": [
              "ride_id                       object\n",
              "rideable_type                 object\n",
              "started_at            datetime64[ns]\n",
              "ended_at              datetime64[ns]\n",
              "start_station_name            object\n",
              "start_station_id              object\n",
              "end_station_name              object\n",
              "end_station_id                object\n",
              "start_lat                    float64\n",
              "start_lng                    float64\n",
              "end_lat                      float64\n",
              "end_lng                      float64\n",
              "member_casual                 object\n",
              "dtype: object"
            ]
          },
          "metadata": {
            "tags": []
          },
          "execution_count": 16
        }
      ]
    },
    {
      "cell_type": "code",
      "metadata": {
        "id": "BMvBNlwwhNGx"
      },
      "source": [
        "# drop the id columns as it won't be needed for analysis\n",
        "df.drop('ride_id', axis=1, inplace=True)"
      ],
      "execution_count": 17,
      "outputs": []
    },
    {
      "cell_type": "code",
      "metadata": {
        "id": "LuuUsX24h9WF"
      },
      "source": [
        "# check for missing values\n",
        "df.isna().sum()"
      ],
      "execution_count": null,
      "outputs": []
    },
    {
      "cell_type": "code",
      "metadata": {
        "id": "X0kiGt0kiIOw"
      },
      "source": [
        "df.loc[df.start_station_name.isna()]"
      ],
      "execution_count": null,
      "outputs": []
    },
    {
      "cell_type": "code",
      "metadata": {
        "id": "1dcEinLmih6Y"
      },
      "source": [
        "# drop all rows with missing values\n",
        "df.dropna(axis=0, how='any', inplace=True)"
      ],
      "execution_count": 20,
      "outputs": []
    },
    {
      "cell_type": "code",
      "metadata": {
        "colab": {
          "base_uri": "https://localhost:8080/",
          "height": 514
        },
        "id": "DICUMrrij7-7",
        "outputId": "1c273c0d-d205-4b31-b22e-bc1091336a36"
      },
      "source": [
        "# recheck for missing values\n",
        "msn.bar(df, color= (0.19, 0.84, 0.78), figsize=(10,6), fontsize=12);"
      ],
      "execution_count": 23,
      "outputs": [
        {
          "output_type": "display_data",
          "data": {
            "image/png": "[encoded data removed]",
            "text/plain": [
              "<Figure size 720x432 with 3 Axes>"
            ]
          },
          "metadata": {
            "tags": []
          }
        }
      ]
    },
    {
      "cell_type": "code",
      "metadata": {
        "colab": {
          "base_uri": "https://localhost:8080/"
        },
        "id": "fB58AF1eoHwB",
        "outputId": "30455c15-7856-472d-d982-4d0399ce7b05"
      },
      "source": [
        "# check for duplicates\n",
        "df.duplicated().sum()"
      ],
      "execution_count": 24,
      "outputs": [
        {
          "output_type": "execute_result",
          "data": {
            "text/plain": [
              "469"
            ]
          },
          "metadata": {
            "tags": []
          },
          "execution_count": 24
        }
      ]
    },
    {
      "cell_type": "markdown",
      "metadata": {
        "id": "62t7T6X4oUjk"
      },
      "source": [
        "**seems there are 469 duplicate values. further inspection of these values is needed to find out if they are truly duplicate**"
      ]
    },
    {
      "cell_type": "code",
      "metadata": {
        "id": "V1OGoihukFds"
      },
      "source": [
        "# inspect duplicated rows\n",
        "df.loc[df.duplicated()]"
      ],
      "execution_count": null,
      "outputs": []
    },
    {
      "cell_type": "markdown",
      "metadata": {
        "id": "MdW2oqD-pL2F"
      },
      "source": [
        "*from all indication, the values are not truly duplicates*"
      ]
    },
    {
      "cell_type": "markdown",
      "metadata": {
        "id": "1AXMdkyspe1I"
      },
      "source": [
        "## Exploratory data analysis\n",
        "\n",
        "TODOS:-\n",
        " - calculate the duration of each ride\n",
        " - Univariate analysis\n",
        " - Bivariate analysis\n",
        " - Correlation matrix\n"
      ]
    },
    {
      "cell_type": "code",
      "metadata": {
        "id": "h2gZhIgAw6XN"
      },
      "source": [
        "# calculating the duration of each ride in minutes\n",
        "df['duration_of_ride'] = df.ended_at - df.started_at\n",
        "df['duration_of_ride'] = round(df['duration_of_ride']/np.timedelta64(1,'m'),2)"
      ],
      "execution_count": 26,
      "outputs": []
    },
    {
      "cell_type": "code",
      "metadata": {
        "id": "sp0g8yt2168f"
      },
      "source": [
        "# inserting the newly created column next to 'ended_at' column\n",
        "col_to_move = df['duration_of_ride']\n",
        "df.drop('duration_of_ride', axis=1, inplace=True)\n",
        "df.insert(3, 'duration_of_ride_mins', col_to_move)"
      ],
      "execution_count": 27,
      "outputs": []
    },
    {
      "cell_type": "code",
      "metadata": {
        "id": "dd8EDrvC2gw6"
      },
      "source": [
        "df.head(2)"
      ],
      "execution_count": null,
      "outputs": []
    },
    {
      "cell_type": "code",
      "metadata": {
        "id": "uF62Y6GE3jbx"
      },
      "source": [
        "df.columns"
      ],
      "execution_count": null,
      "outputs": []
    },
    {
      "cell_type": "markdown",
      "metadata": {
        "id": "j9HevLx4Ojyq"
      },
      "source": [
        "## Univariate Analysis :\n",
        "  #### Questions -\n",
        "  1. which bike rideable type is the commonest?\n",
        "  2. what is the distribution of the ride duration?\n",
        "  3. which sation is the most popular start-station?\n",
        "  4. which is the most popular end-station?\n",
        "  5. which is the most common membership type?\n",
        "\n",
        "\n"
      ]
    },
    {
      "cell_type": "code",
      "metadata": {
        "colab": {
          "base_uri": "https://localhost:8080/"
        },
        "id": "Hsyzls49OeJq",
        "outputId": "5b29b257-d894-4a6f-d604-77e725fe5605"
      },
      "source": [
        "df.rideable_type.value_counts()"
      ],
      "execution_count": 30,
      "outputs": [
        {
          "output_type": "execute_result",
          "data": {
            "text/plain": [
              "docked_bike      2554291\n",
              "electric_bike     421786\n",
              "classic_bike      318614\n",
              "Name: rideable_type, dtype: int64"
            ]
          },
          "metadata": {
            "tags": []
          },
          "execution_count": 30
        }
      ]
    },
    {
      "cell_type": "code",
      "metadata": {
        "colab": {
          "base_uri": "https://localhost:8080/",
          "height": 519
        },
        "id": "gB9IMeb6Orgf",
        "outputId": "0f2da7b1-c425-4420-a864-7f211383f15a"
      },
      "source": [
        "fig = plt.figure(figsize=(12,8))\n",
        "plt.subplot(1,2,1)\n",
        "plt.title('Count of bike types')\n",
        "sns.countplot(x='rideable_type', data=df, color=(0.19, 0.84, 0.78));\n",
        "plt.subplot(1,2,2)\n",
        "plt.title('percentage of bike types')\n",
        "plt.pie(x=df.rideable_type.value_counts(), data=df, autopct='%.1f%%', colors=[(0.19, 0.84, 0.78), 'lightskyblue', 'cyan'],\n",
        "        labels=df.rideable_type.value_counts().index,\n",
        "        explode=(0.2,0,0));"
      ],
      "execution_count": 31,
      "outputs": [
        {
          "output_type": "display_data",
          "data": {
            "image/png": "[encoded data removed]",
            "text/plain": [
              "<Figure size 864x576 with 2 Axes>"
            ]
          },
          "metadata": {
            "tags": []
          }
        }
      ]
    },
    {
      "cell_type": "markdown",
      "metadata": {
        "id": "9gzAdB4oWIh1"
      },
      "source": [
        "**docked bike were the commonest types of rideable bikes, with over 75% of riders using this type**"
      ]
    },
    {
      "cell_type": "code",
      "metadata": {
        "colab": {
          "base_uri": "https://localhost:8080/"
        },
        "id": "0F6hfeRpUej3",
        "outputId": "1a45a824-baac-471c-d260-f9cce73e1374"
      },
      "source": [
        "# analysis of duration of ride\n",
        "df.duration_of_ride_mins.describe().T"
      ],
      "execution_count": 32,
      "outputs": [
        {
          "output_type": "execute_result",
          "data": {
            "text/plain": [
              "count    3.294691e+06\n",
              "mean     2.522287e+01\n",
              "std      3.810944e+02\n",
              "min     -2.904997e+04\n",
              "25%      8.030000e+00\n",
              "50%      1.470000e+01\n",
              "75%      2.687000e+01\n",
              "max      5.872003e+04\n",
              "Name: duration_of_ride_mins, dtype: float64"
            ]
          },
          "metadata": {
            "tags": []
          },
          "execution_count": 32
        }
      ]
    },
    {
      "cell_type": "markdown",
      "metadata": {
        "id": "CPTVPdNbk6ZK"
      },
      "source": [
        "**the minimum ride duration is a negative number. This is most likely an invalid input, so it's necessary to probe further into this particular data.**"
      ]
    },
    {
      "cell_type": "code",
      "metadata": {
        "id": "IsBv13KwmChH"
      },
      "source": [
        "df.loc[df.duration_of_ride_mins < 0]"
      ],
      "execution_count": null,
      "outputs": []
    },
    {
      "cell_type": "markdown",
      "metadata": {
        "id": "QfChVuC6nGKG"
      },
      "source": [
        "**10454 entries of the dataset have end-time that were earlier than the start-time. These are wrongly entered values in the dataset. A discussion with the company about this finding will be necessary. For now, it will suffice to drop all such rows.**"
      ]
    },
    {
      "cell_type": "code",
      "metadata": {
        "id": "_2ef64mqw4MK"
      },
      "source": [
        "# remove all rows containing negative duration\n",
        "df = df.loc[~(df.duration_of_ride_mins < 0)]\n"
      ],
      "execution_count": 41,
      "outputs": []
    },
    {
      "cell_type": "code",
      "metadata": {
        "id": "bF3dthHKvFMd"
      },
      "source": [
        "df.loc[df.duration_of_ride_mins == 0]"
      ],
      "execution_count": null,
      "outputs": []
    },
    {
      "cell_type": "markdown",
      "metadata": {
        "id": "OJ-_Y6nVy3Wj"
      },
      "source": [
        "**in these entries, no ride was made as duration was 0 (start_at == end_at).  It is equally obviious that the start_station and end_station names are same. It may be assumed that the riders only came to register, although this assumption can only be clarified by the company's data entry team. For now, we may as well remove these from the data**"
      ]
    },
    {
      "cell_type": "code",
      "metadata": {
        "id": "Y1HLLiGHohmt"
      },
      "source": [
        "df = df.loc[df.duration_of_ride_mins > 0]"
      ],
      "execution_count": 47,
      "outputs": []
    },
    {
      "cell_type": "code",
      "metadata": {
        "colab": {
          "base_uri": "https://localhost:8080/"
        },
        "id": "yPUZET8Bv_8u",
        "outputId": "954dfba8-8829-462a-bc36-c6c7f081f436"
      },
      "source": [
        "df.duration_of_ride_mins.describe().T"
      ],
      "execution_count": 49,
      "outputs": [
        {
          "output_type": "execute_result",
          "data": {
            "text/plain": [
              "count    3.283948e+06\n",
              "mean     2.805185e+01\n",
              "std      2.590456e+02\n",
              "min      2.000000e-02\n",
              "25%      8.080000e+00\n",
              "50%      1.477000e+01\n",
              "75%      2.692000e+01\n",
              "max      5.872003e+04\n",
              "Name: duration_of_ride_mins, dtype: float64"
            ]
          },
          "metadata": {
            "tags": []
          },
          "execution_count": 49
        }
      ]
    },
    {
      "cell_type": "code",
      "metadata": {
        "colab": {
          "base_uri": "https://localhost:8080/"
        },
        "id": "NwzuHJLN3XVA",
        "outputId": "f9648641-2bec-428c-e6f3-ed598ae2369e"
      },
      "source": [
        "# commonest start station\n",
        "df.start_station_name.value_counts()"
      ],
      "execution_count": 60,
      "outputs": [
        {
          "output_type": "execute_result",
          "data": {
            "text/plain": [
              "Streeter Dr & Grand Ave            34904\n",
              "Clark St & Elm St                  31818\n",
              "Lake Shore Dr & Monroe St          29480\n",
              "Theater on the Lake                29347\n",
              "Lake Shore Dr & North Blvd         26725\n",
              "                                   ...  \n",
              "Kedzie Ave & 110th St                  3\n",
              "W Washington Blvd & N Peoria St        3\n",
              "N Carpenter St & W Lake St             1\n",
              "Stewart Ave & 63rd St (*)              1\n",
              "N Hampden Ct & W Diversey Ave          1\n",
              "Name: start_station_name, Length: 702, dtype: int64"
            ]
          },
          "metadata": {
            "tags": []
          },
          "execution_count": 60
        }
      ]
    },
    {
      "cell_type": "code",
      "metadata": {
        "colab": {
          "base_uri": "https://localhost:8080/"
        },
        "id": "HzYOP17s49bO",
        "outputId": "6bd840cc-aa90-4c7d-99a7-2aff9ffed3b7"
      },
      "source": [
        "df.end_station_name.value_counts()"
      ],
      "execution_count": 58,
      "outputs": [
        {
          "output_type": "execute_result",
          "data": {
            "text/plain": [
              "Streeter Dr & Grand Ave          37181\n",
              "Clark St & Elm St                31758\n",
              "Theater on the Lake              30971\n",
              "Lake Shore Dr & Monroe St        29006\n",
              "Lake Shore Dr & North Blvd       27347\n",
              "                                 ...  \n",
              "Torrence Ave & 126th Pl              3\n",
              "Kedzie Ave & 110th St                2\n",
              "N Damen Ave & W Wabansia St          2\n",
              "Avenue L & 114th St                  1\n",
              "N Hampden Ct & W Diversey Ave        1\n",
              "Name: end_station_name, Length: 704, dtype: int64"
            ]
          },
          "metadata": {
            "tags": []
          },
          "execution_count": 58
        }
      ]
    },
    {
      "cell_type": "markdown",
      "metadata": {
        "id": "1_nNDHCk5hQD"
      },
      "source": [
        "**'Streeter Dr & Grand Ave' is the most popular start, as well as, end station, while the least number of rides start and end at 'N Hampden Ct & W Diversey Ave'**"
      ]
    },
    {
      "cell_type": "code",
      "metadata": {
        "colab": {
          "base_uri": "https://localhost:8080/",
          "height": 572
        },
        "id": "JA-TT2GV5De4",
        "outputId": "c91b51e4-ec56-4e4a-bbd3-258a42c220f0"
      },
      "source": [
        " # commonest membership type\n",
        "\n",
        " fig = plt.figure(figsize=(12,8))\n",
        " plt.subplot(1,2,1)\n",
        " plt.title('Count of members By Membership Type')\n",
        " sns.countplot(df.member_casual, palette='Blues'); \n",
        " plt.subplot(1,2,2)\n",
        " plt.title('Percentage of members By Membership Type')\n",
        " color = [(0.19, 0.84, 0.78), 'lightblue']\n",
        " label=df.member_casual.value_counts().index\n",
        " plt.pie(x=df.member_casual.value_counts(), data=df, autopct='%1.2f%%', colors=color, labels=label);"
      ],
      "execution_count": 69,
      "outputs": [
        {
          "output_type": "stream",
          "text": [
            "/usr/local/lib/python3.7/dist-packages/seaborn/_decorators.py:43: FutureWarning: Pass the following variable as a keyword arg: x. From version 0.12, the only valid positional argument will be `data`, and passing other arguments without an explicit keyword will result in an error or misinterpretation.\n",
            "  FutureWarning\n"
          ],
          "name": "stderr"
        },
        {
          "output_type": "display_data",
          "data": {
            "image/png": "[encoded data removed]",
            "text/plain": [
              "<Figure size 864x576 with 2 Axes>"
            ]
          },
          "metadata": {
            "tags": []
          }
        }
      ]
    },
    {
      "cell_type": "markdown",
      "metadata": {
        "id": "49EQu3ZE97ZS"
      },
      "source": [
        "##Bivariate Analysis\n",
        "\n",
        "####Task: The company wants to know how their annual members and casual riders use Cyclistic bikes differently\n",
        "\n",
        "####TODOS: \n",
        " - group df by membership type\n",
        " -find relationship between the type of bike and membership type\n",
        " -compare the average duration of ride by membership type\n",
        " "
      ]
    },
    {
      "cell_type": "code",
      "metadata": {
        "colab": {
          "base_uri": "https://localhost:8080/"
        },
        "id": "0Wu_qTJS6qDX",
        "outputId": "e4250d89-37ac-40ec-dd53-a8518b9a1063"
      },
      "source": [
        "df.columns"
      ],
      "execution_count": 70,
      "outputs": [
        {
          "output_type": "execute_result",
          "data": {
            "text/plain": [
              "Index(['rideable_type', 'started_at', 'ended_at', 'duration_of_ride_mins',\n",
              "       'start_station_name', 'start_station_id', 'end_station_name',\n",
              "       'end_station_id', 'start_lat', 'start_lng', 'end_lat', 'end_lng',\n",
              "       'member_casual'],\n",
              "      dtype='object')"
            ]
          },
          "metadata": {
            "tags": []
          },
          "execution_count": 70
        }
      ]
    },
    {
      "cell_type": "code",
      "metadata": {
        "colab": {
          "base_uri": "https://localhost:8080/",
          "height": 264
        },
        "id": "rGBJcBhI-RYs",
        "outputId": "0bf662c4-f138-410f-80d0-e0c8bbc915c7"
      },
      "source": [
        "df.head(3)"
      ],
      "execution_count": 71,
      "outputs": [
        {
          "output_type": "execute_result",
          "data": {
            "text/html": [
              "<div>\n",
              "<style scoped>\n",
              "    .dataframe tbody tr th:only-of-type {\n",
              "        vertical-align: middle;\n",
              "    }\n",
              "\n",
              "    .dataframe tbody tr th {\n",
              "        vertical-align: top;\n",
              "    }\n",
              "\n",
              "    .dataframe thead th {\n",
              "        text-align: right;\n",
              "    }\n",
              "</style>\n",
              "<table border=\"1\" class=\"dataframe\">\n",
              "  <thead>\n",
              "    <tr style=\"text-align: right;\">\n",
              "      <th></th>\n",
              "      <th>rideable_type</th>\n",
              "      <th>started_at</th>\n",
              "      <th>ended_at</th>\n",
              "      <th>duration_of_ride_mins</th>\n",
              "      <th>start_station_name</th>\n",
              "      <th>start_station_id</th>\n",
              "      <th>end_station_name</th>\n",
              "      <th>end_station_id</th>\n",
              "      <th>start_lat</th>\n",
              "      <th>start_lng</th>\n",
              "      <th>end_lat</th>\n",
              "      <th>end_lng</th>\n",
              "      <th>member_casual</th>\n",
              "    </tr>\n",
              "  </thead>\n",
              "  <tbody>\n",
              "    <tr>\n",
              "      <th>0</th>\n",
              "      <td>docked_bike</td>\n",
              "      <td>2020-08-20 18:08:14</td>\n",
              "      <td>2020-08-20 18:17:51</td>\n",
              "      <td>9.62</td>\n",
              "      <td>Lake Shore Dr &amp; Diversey Pkwy</td>\n",
              "      <td>329</td>\n",
              "      <td>Clark St &amp; Lincoln Ave</td>\n",
              "      <td>141</td>\n",
              "      <td>41.932588</td>\n",
              "      <td>-87.636427</td>\n",
              "      <td>41.915689</td>\n",
              "      <td>-87.634600</td>\n",
              "      <td>member</td>\n",
              "    </tr>\n",
              "    <tr>\n",
              "      <th>1</th>\n",
              "      <td>electric_bike</td>\n",
              "      <td>2020-08-27 18:46:04</td>\n",
              "      <td>2020-08-27 19:54:51</td>\n",
              "      <td>68.78</td>\n",
              "      <td>Michigan Ave &amp; 14th St</td>\n",
              "      <td>168</td>\n",
              "      <td>Michigan Ave &amp; 14th St</td>\n",
              "      <td>168</td>\n",
              "      <td>41.864379</td>\n",
              "      <td>-87.623681</td>\n",
              "      <td>41.864221</td>\n",
              "      <td>-87.623439</td>\n",
              "      <td>casual</td>\n",
              "    </tr>\n",
              "    <tr>\n",
              "      <th>2</th>\n",
              "      <td>electric_bike</td>\n",
              "      <td>2020-08-26 19:44:14</td>\n",
              "      <td>2020-08-26 21:53:07</td>\n",
              "      <td>128.88</td>\n",
              "      <td>Columbus Dr &amp; Randolph St</td>\n",
              "      <td>195</td>\n",
              "      <td>State St &amp; Randolph St</td>\n",
              "      <td>44</td>\n",
              "      <td>41.884641</td>\n",
              "      <td>-87.619549</td>\n",
              "      <td>41.884971</td>\n",
              "      <td>-87.627574</td>\n",
              "      <td>casual</td>\n",
              "    </tr>\n",
              "  </tbody>\n",
              "</table>\n",
              "</div>"
            ],
            "text/plain": [
              "   rideable_type          started_at  ...    end_lng  member_casual\n",
              "0    docked_bike 2020-08-20 18:08:14  ... -87.634600         member\n",
              "1  electric_bike 2020-08-27 18:46:04  ... -87.623439         casual\n",
              "2  electric_bike 2020-08-26 19:44:14  ... -87.627574         casual\n",
              "\n",
              "[3 rows x 13 columns]"
            ]
          },
          "metadata": {
            "tags": []
          },
          "execution_count": 71
        }
      ]
    },
    {
      "cell_type": "code",
      "metadata": {
        "id": "IdmJqss6CzDt"
      },
      "source": [
        "mem_bike_type = df.groupby(by='member_casual')['rideable_type'].value_counts()"
      ],
      "execution_count": 96,
      "outputs": []
    },
    {
      "cell_type": "code",
      "metadata": {
        "colab": {
          "base_uri": "https://localhost:8080/",
          "height": 555
        },
        "id": "D1ofAi8_G_y0",
        "outputId": "07a7563b-8564-4335-a330-e3a2ea0a1ed2"
      },
      "source": [
        "colors = [(0.19, 0.84, 0.78), 'lightblue', 'cyan']\n",
        "mem_bike_type.unstack().plot(kind='bar', title='Count of types of bikes based on membership type', figsize=(10,8), color=colors);"
      ],
      "execution_count": 106,
      "outputs": [
        {
          "output_type": "display_data",
          "data": {
            "image/png": "[encoded data removed]",
            "text/plain": [
              "<Figure size 720x576 with 1 Axes>"
            ]
          },
          "metadata": {
            "tags": []
          }
        }
      ]
    },
    {
      "cell_type": "code",
      "metadata": {
        "id": "0i2AFfESQ3QZ"
      },
      "source": [
        "df['ride_hour'] = df.started_at.dt.hour"
      ],
      "execution_count": 134,
      "outputs": []
    },
    {
      "cell_type": "code",
      "metadata": {
        "colab": {
          "base_uri": "https://localhost:8080/"
        },
        "id": "gOhaEq9RRflI",
        "outputId": "1b058fc4-dfd8-44da-9965-25473b8bed37"
      },
      "source": [
        "df.columns"
      ],
      "execution_count": 135,
      "outputs": [
        {
          "output_type": "execute_result",
          "data": {
            "text/plain": [
              "Index(['rideable_type', 'started_at', 'ended_at', 'duration_of_ride_mins',\n",
              "       'start_station_name', 'start_station_id', 'end_station_name',\n",
              "       'end_station_id', 'start_lat', 'start_lng', 'end_lat', 'end_lng',\n",
              "       'member_casual', 'ride_hour'],\n",
              "      dtype='object')"
            ]
          },
          "metadata": {
            "tags": []
          },
          "execution_count": 135
        }
      ]
    },
    {
      "cell_type": "code",
      "metadata": {
        "colab": {
          "base_uri": "https://localhost:8080/"
        },
        "id": "uZvcsrWHShct",
        "outputId": "8d14c6bc-59da-42b2-947d-3f990ab50568"
      },
      "source": [
        "df.ride_hour.max()"
      ],
      "execution_count": 143,
      "outputs": [
        {
          "output_type": "execute_result",
          "data": {
            "text/plain": [
              "23"
            ]
          },
          "metadata": {
            "tags": []
          },
          "execution_count": 143
        }
      ]
    },
    {
      "cell_type": "code",
      "metadata": {
        "colab": {
          "base_uri": "https://localhost:8080/",
          "height": 386
        },
        "id": "my4NWYySUGbm",
        "outputId": "45d53ab1-f640-4cc0-a638-7447c70a7eef"
      },
      "source": [
        "plt.figure(figsize=(16,9))\n",
        "bins = [0,3,6,9,12,15,18,21,24]\n",
        "sns.displot(df.ride_hour, kind='hist', bins=bins);\n"
      ],
      "execution_count": 164,
      "outputs": [
        {
          "output_type": "display_data",
          "data": {
            "text/plain": [
              "<Figure size 1152x648 with 0 Axes>"
            ]
          },
          "metadata": {
            "tags": []
          }
        },
        {
          "output_type": "display_data",
          "data": {
            "image/png": "[encoded data removed]",
            "text/plain": [
              "<Figure size 360x360 with 1 Axes>"
            ]
          },
          "metadata": {
            "tags": [],
            "needs_background": "light"
          }
        }
      ]
    },
    {
      "cell_type": "code",
      "metadata": {
        "id": "imKYDm0OW2qg"
      },
      "source": [
        "memb_by_hour = df.groupby('member_casual')['ride_hour'].mean()"
      ],
      "execution_count": 165,
      "outputs": []
    },
    {
      "cell_type": "code",
      "metadata": {
        "colab": {
          "base_uri": "https://localhost:8080/"
        },
        "id": "tDv3rlgCczzL",
        "outputId": "a21ee7e9-a7e6-4d88-f900-e06dd89ad8fc"
      },
      "source": [
        "memb_by_hour"
      ],
      "execution_count": 166,
      "outputs": [
        {
          "output_type": "execute_result",
          "data": {
            "text/plain": [
              "member_casual\n",
              "casual    14.745437\n",
              "member    14.012731\n",
              "Name: ride_hour, dtype: float64"
            ]
          },
          "metadata": {
            "tags": []
          },
          "execution_count": 166
        }
      ]
    },
    {
      "cell_type": "code",
      "metadata": {
        "colab": {
          "base_uri": "https://localhost:8080/",
          "height": 265
        },
        "id": "Vbre07dPc2cy",
        "outputId": "1bfaa817-a9df-4435-a34f-2e0efbc68c0d"
      },
      "source": [
        "sns.boxplot(y = memb_by_hour)"
      ],
      "execution_count": 172,
      "outputs": [
        {
          "output_type": "execute_result",
          "data": {
            "text/plain": [
              "<matplotlib.axes._subplots.AxesSubplot at 0x7f8321446a10>"
            ]
          },
          "metadata": {
            "tags": []
          },
          "execution_count": 172
        },
        {
          "output_type": "display_data",
          "data": {
            "image/png": "[encoded data removed]",
            "text/plain": [
              "<Figure size 432x288 with 1 Axes>"
            ]
          },
          "metadata": {
            "tags": [],
            "needs_background": "light"
          }
        }
      ]
    },
    {
      "cell_type": "code",
      "metadata": {
        "id": "M5wl0xk8eHCR"
      },
      "source": [
        ""
      ],
      "execution_count": null,
      "outputs": []
    }
  ]
}